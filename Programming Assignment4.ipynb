{
 "cells": [
  {
   "cell_type": "markdown",
   "id": "4ecff44f",
   "metadata": {},
   "source": [
    "Importing Libraries\n"
   ]
  },
  {
   "cell_type": "code",
   "execution_count": 37,
   "id": "5695d667",
   "metadata": {},
   "outputs": [],
   "source": [
    "import os\n",
    "import numpy as np\n",
    "import pandas as pd\n",
    "from skimage import io,color\n",
    "from skimage import filters\n",
    "from skimage import exposure\n",
    "from sklearn.decomposition import PCA\n",
    "from sklearn.cluster import KMeans,BisectingKMeans\n",
    "from sklearn.cluster import SpectralClustering,AgglomerativeClustering,DBSCAN\n",
    "from sklearn.metrics import silhouette_score,fowlkes_mallows_score\n",
    "import warnings\n",
    "from tqdm import tqdm\n",
    "warnings.filterwarnings(\"ignore\")"
   ]
  },
  {
   "cell_type": "code",
   "execution_count": 38,
   "id": "78faee11",
   "metadata": {},
   "outputs": [],
   "source": [
    "root_dir = \"C:/Users/rysad/OneDrive/Desktop/Data Science/DM-1/datasets/ResizedImages\"\n"
   ]
  },
  {
   "cell_type": "markdown",
   "id": "c42e18f7",
   "metadata": {},
   "source": [
    "1. Feature extraction"
   ]
  },
  {
   "cell_type": "code",
   "execution_count": 39,
   "id": "6093496a",
   "metadata": {},
   "outputs": [
    {
     "name": "stderr",
     "output_type": "stream",
     "text": [
      "100%|██████████| 4/4 [00:06<00:00,  1.59s/it]\n"
     ]
    }
   ],
   "source": [
    "def edge_histogram(image):\n",
    "    im=angle(filters.sobel_h(image),filters.sobel_v(image))\n",
    "    hist,_=exposure.histogram(im, nbins=36)\n",
    "    return hist\n",
    "def angle(dx, dy):\n",
    "    return np.mod(np.arctan2(dy, dx), np.pi)\n",
    "labels=[]\n",
    "inputs=[]\n",
    "for index, dog in enumerate(tqdm(os.listdir(root_dir))):\n",
    "    path = os.path.join(root_dir, dog)\n",
    "    if os.path.isdir(path): \n",
    "        for file in os.listdir(path):\n",
    "            file_path = os.path.join(path, file)\n",
    "            if os.path.isfile(file_path):\n",
    "                img = io.imread(file_path)\n",
    "                gray_img = color.rgb2gray(img)\n",
    "                hists = edge_histogram(gray_img)\n",
    "                inputs.append(hists)\n",
    "                labels.append(index)\n",
    "labels = np.array(labels)\n",
    "inputs = np.array(inputs)\n"
   ]
  },
  {
   "cell_type": "code",
   "execution_count": 40,
   "id": "70921102",
   "metadata": {
    "scrolled": true
   },
   "outputs": [
    {
     "name": "stdout",
     "output_type": "stream",
     "text": [
      "868\n",
      "First input: [777 692 704 628 559 522 482 431 388 382 334 270 337 325 305 306 299 328\n",
      " 331 290 321 345 326 313 344 358 359 365 406 429 509 575 689 703 834 818]\n"
     ]
    }
   ],
   "source": [
    "print(len(inputs))\n",
    "print(\"First input:\", inputs[0])"
   ]
  },
  {
   "cell_type": "markdown",
   "id": "037110a6",
   "metadata": {},
   "source": [
    "Normalizing Edge Histograms Dataset\n"
   ]
  },
  {
   "cell_type": "code",
   "execution_count": 41,
   "id": "4b4fc487",
   "metadata": {},
   "outputs": [],
   "source": [
    "inputs_normalized = inputs / np.sum(inputs, axis=1, keepdims=True)"
   ]
  },
  {
   "cell_type": "code",
   "execution_count": 42,
   "id": "0fca3c76",
   "metadata": {},
   "outputs": [
    {
     "name": "stdout",
     "output_type": "stream",
     "text": [
      "868\n",
      "First input: [0.04742432 0.04223633 0.04296875 0.03833008 0.03411865 0.03186035\n",
      " 0.02941895 0.02630615 0.02368164 0.02331543 0.02038574 0.01647949\n",
      " 0.02056885 0.01983643 0.01861572 0.01867676 0.01824951 0.02001953\n",
      " 0.02020264 0.0177002  0.01959229 0.02105713 0.01989746 0.019104\n",
      " 0.02099609 0.02185059 0.02191162 0.02227783 0.02478027 0.02618408\n",
      " 0.03106689 0.03509521 0.04205322 0.04290771 0.05090332 0.04992676]\n",
      "Sum of the input array: 1.0\n"
     ]
    }
   ],
   "source": [
    "print(len(inputs_normalized))\n",
    "print(\"First input:\", inputs_normalized[0])\n",
    "\n",
    "input_sum = np.sum(inputs_normalized[0])\n",
    "print(\"Sum of the input array:\", input_sum)\n"
   ]
  },
  {
   "cell_type": "markdown",
   "id": "0afd7e48",
   "metadata": {},
   "source": [
    "2. Dimension Reduction Using PCA\n"
   ]
  },
  {
   "cell_type": "code",
   "execution_count": 43,
   "id": "06f7d49a",
   "metadata": {},
   "outputs": [],
   "source": [
    "pca_algorithm=PCA(n_components=2)\n",
    "inputs_normalized=pca_algorithm.fit_transform(inputs_normalized)"
   ]
  },
  {
   "cell_type": "code",
   "execution_count": 44,
   "id": "6dff54fd",
   "metadata": {},
   "outputs": [
    {
     "name": "stdout",
     "output_type": "stream",
     "text": [
      "Length of inputs_normalized after PCA dimensionality reduction: 868\n",
      "Shape of inputs_normalized after PCA dimensionality reduction: (868, 2)\n"
     ]
    }
   ],
   "source": [
    "print(\"Length of inputs_normalized after PCA dimensionality reduction:\", len(inputs_normalized))\n",
    "print(\"Shape of inputs_normalized after PCA dimensionality reduction:\", inputs_normalized.shape)\n"
   ]
  },
  {
   "cell_type": "code",
   "execution_count": 48,
   "id": "e524e561",
   "metadata": {},
   "outputs": [],
   "source": [
    "from sklearn.cluster import KMeans, SpectralClustering, DBSCAN, AgglomerativeClustering, Birch\n",
    "from sklearn.metrics import fowlkes_mallows_score, silhouette_score\n",
    "import pandas as pd\n",
    "from sklearn.cluster import Birch"
   ]
  },
  {
   "cell_type": "markdown",
   "id": "295c36cd",
   "metadata": {},
   "source": [
    "3. Clustering Algorithm (k-means, k-means++, Bisecting K-means, Spectral Clustering) and DBSCAN  and Agglomerative Clustering (Single Link, Complete Link, Group Average, and Ward's Method) and 4. Clustering Evaluations"
   ]
  },
  {
   "cell_type": "markdown",
   "id": "84869a00",
   "metadata": {},
   "source": [
    "eps= 0.04 and min_samples = 4 to get 4 clusters"
   ]
  },
  {
   "cell_type": "markdown",
   "id": "b7a72382",
   "metadata": {},
   "source": [
    "a) Fowlkes-Mallows Index and b) Silhouette Coefficient"
   ]
  },
  {
   "cell_type": "code",
   "execution_count": 58,
   "id": "9948d042",
   "metadata": {},
   "outputs": [
    {
     "name": "stdout",
     "output_type": "stream",
     "text": [
      "Evaluation Scores:\n"
     ]
    },
    {
     "data": {
      "text/html": [
       "<div>\n",
       "<style scoped>\n",
       "    .dataframe tbody tr th:only-of-type {\n",
       "        vertical-align: middle;\n",
       "    }\n",
       "\n",
       "    .dataframe tbody tr th {\n",
       "        vertical-align: top;\n",
       "    }\n",
       "\n",
       "    .dataframe thead th {\n",
       "        text-align: right;\n",
       "    }\n",
       "</style>\n",
       "<table border=\"1\" class=\"dataframe\">\n",
       "  <thead>\n",
       "    <tr style=\"text-align: right;\">\n",
       "      <th></th>\n",
       "      <th>algorithm</th>\n",
       "      <th>fowlkes</th>\n",
       "      <th>silhouette</th>\n",
       "    </tr>\n",
       "  </thead>\n",
       "  <tbody>\n",
       "    <tr>\n",
       "      <th>0</th>\n",
       "      <td>K-means (Random)</td>\n",
       "      <td>0.310482</td>\n",
       "      <td>0.397831</td>\n",
       "    </tr>\n",
       "    <tr>\n",
       "      <th>1</th>\n",
       "      <td>K-means (K-means++)</td>\n",
       "      <td>0.310482</td>\n",
       "      <td>0.397831</td>\n",
       "    </tr>\n",
       "    <tr>\n",
       "      <th>2</th>\n",
       "      <td>Bisecting K-means</td>\n",
       "      <td>0.309696</td>\n",
       "      <td>0.345637</td>\n",
       "    </tr>\n",
       "    <tr>\n",
       "      <th>3</th>\n",
       "      <td>Spectral Clustering</td>\n",
       "      <td>0.355583</td>\n",
       "      <td>0.024984</td>\n",
       "    </tr>\n",
       "    <tr>\n",
       "      <th>4</th>\n",
       "      <td>DBSCAN</td>\n",
       "      <td>0.505586</td>\n",
       "      <td>0.778213</td>\n",
       "    </tr>\n",
       "    <tr>\n",
       "      <th>5</th>\n",
       "      <td>Agg. Clustering (Single)</td>\n",
       "      <td>0.505584</td>\n",
       "      <td>0.706403</td>\n",
       "    </tr>\n",
       "    <tr>\n",
       "      <th>6</th>\n",
       "      <td>Agg. Clustering (Complete)</td>\n",
       "      <td>0.370284</td>\n",
       "      <td>0.430164</td>\n",
       "    </tr>\n",
       "    <tr>\n",
       "      <th>7</th>\n",
       "      <td>Agg. Clustering (Average)</td>\n",
       "      <td>0.492176</td>\n",
       "      <td>0.424123</td>\n",
       "    </tr>\n",
       "    <tr>\n",
       "      <th>8</th>\n",
       "      <td>Agg. Clustering (Ward)</td>\n",
       "      <td>0.313856</td>\n",
       "      <td>0.341028</td>\n",
       "    </tr>\n",
       "  </tbody>\n",
       "</table>\n",
       "</div>"
      ],
      "text/plain": [
       "                    algorithm   fowlkes  silhouette\n",
       "0            K-means (Random)  0.310482    0.397831\n",
       "1         K-means (K-means++)  0.310482    0.397831\n",
       "2           Bisecting K-means  0.309696    0.345637\n",
       "3         Spectral Clustering  0.355583    0.024984\n",
       "4                      DBSCAN  0.505586    0.778213\n",
       "5    Agg. Clustering (Single)  0.505584    0.706403\n",
       "6  Agg. Clustering (Complete)  0.370284    0.430164\n",
       "7   Agg. Clustering (Average)  0.492176    0.424123\n",
       "8      Agg. Clustering (Ward)  0.313856    0.341028"
      ]
     },
     "execution_count": 58,
     "metadata": {},
     "output_type": "execute_result"
    }
   ],
   "source": [
    "# List of clustering algorithms to evaluate\n",
    "algos = [\n",
    " ('K-means (Random)', KMeans(n_clusters=4, random_state=42, init=\"random\")),\n",
    " ('K-means (K-means++)', KMeans(n_clusters=4, random_state=42, init=\"k-means++\")),\n",
    " ('Bisecting K-means', BisectingKMeans(n_clusters=4, random_state=42, init=\"random\")),\n",
    " ('Spectral Clustering', SpectralClustering(n_clusters=4)),\n",
    " ('DBSCAN', DBSCAN(eps=0.04, min_samples=4)),\n",
    " ('Agg. Clustering (Single)', AgglomerativeClustering(n_clusters=4, linkage='single')),\n",
    " ('Agg. Clustering (Complete)', AgglomerativeClustering(n_clusters=4, linkage='complete')),\n",
    " ('Agg. Clustering (Average)', AgglomerativeClustering(n_clusters=4, linkage='average')),\n",
    " ('Agg. Clustering (Ward)', AgglomerativeClustering(n_clusters=4, linkage='ward'))\n",
    "]\n",
    "scores = pd.DataFrame(columns=['algorithm', 'fowlkes', 'silhouette'])\n",
    "for name, algo in algos:\n",
    "    algo.fit(inputs_normalized)\n",
    "    fowlkes = fowlkes_mallows_score(labels, algo.labels_)\n",
    "    silhouette = silhouette_score(inputs_normalized, algo.labels_)\n",
    "    scores = pd.concat([scores, pd.DataFrame({'algorithm': name, 'fowlkes': [fowlkes],\n",
    "                                              'silhouette': [silhouette]})], ignore_index=True)\n",
    "# Print the evaluation scores\n",
    "print(\"Evaluation Scores:\")\n",
    "scores\n"
   ]
  },
  {
   "cell_type": "markdown",
   "id": "b6260f11",
   "metadata": {},
   "source": [
    "c) Best to worst methods sorted for Fowlkes-Mallows index"
   ]
  },
  {
   "cell_type": "code",
   "execution_count": 59,
   "id": "3109c6dc",
   "metadata": {},
   "outputs": [
    {
     "data": {
      "text/html": [
       "<div>\n",
       "<style scoped>\n",
       "    .dataframe tbody tr th:only-of-type {\n",
       "        vertical-align: middle;\n",
       "    }\n",
       "\n",
       "    .dataframe tbody tr th {\n",
       "        vertical-align: top;\n",
       "    }\n",
       "\n",
       "    .dataframe thead th {\n",
       "        text-align: right;\n",
       "    }\n",
       "</style>\n",
       "<table border=\"1\" class=\"dataframe\">\n",
       "  <thead>\n",
       "    <tr style=\"text-align: right;\">\n",
       "      <th></th>\n",
       "      <th>algorithm</th>\n",
       "      <th>fowlkes</th>\n",
       "    </tr>\n",
       "  </thead>\n",
       "  <tbody>\n",
       "    <tr>\n",
       "      <th>4</th>\n",
       "      <td>DBSCAN</td>\n",
       "      <td>0.505586</td>\n",
       "    </tr>\n",
       "    <tr>\n",
       "      <th>5</th>\n",
       "      <td>Agg. Clustering (Single)</td>\n",
       "      <td>0.505584</td>\n",
       "    </tr>\n",
       "    <tr>\n",
       "      <th>7</th>\n",
       "      <td>Agg. Clustering (Average)</td>\n",
       "      <td>0.492176</td>\n",
       "    </tr>\n",
       "    <tr>\n",
       "      <th>6</th>\n",
       "      <td>Agg. Clustering (Complete)</td>\n",
       "      <td>0.370284</td>\n",
       "    </tr>\n",
       "    <tr>\n",
       "      <th>3</th>\n",
       "      <td>Spectral Clustering</td>\n",
       "      <td>0.355583</td>\n",
       "    </tr>\n",
       "    <tr>\n",
       "      <th>8</th>\n",
       "      <td>Agg. Clustering (Ward)</td>\n",
       "      <td>0.313856</td>\n",
       "    </tr>\n",
       "    <tr>\n",
       "      <th>0</th>\n",
       "      <td>K-means (Random)</td>\n",
       "      <td>0.310482</td>\n",
       "    </tr>\n",
       "    <tr>\n",
       "      <th>1</th>\n",
       "      <td>K-means (K-means++)</td>\n",
       "      <td>0.310482</td>\n",
       "    </tr>\n",
       "    <tr>\n",
       "      <th>2</th>\n",
       "      <td>Bisecting K-means</td>\n",
       "      <td>0.309696</td>\n",
       "    </tr>\n",
       "  </tbody>\n",
       "</table>\n",
       "</div>"
      ],
      "text/plain": [
       "                    algorithm   fowlkes\n",
       "4                      DBSCAN  0.505586\n",
       "5    Agg. Clustering (Single)  0.505584\n",
       "7   Agg. Clustering (Average)  0.492176\n",
       "6  Agg. Clustering (Complete)  0.370284\n",
       "3         Spectral Clustering  0.355583\n",
       "8      Agg. Clustering (Ward)  0.313856\n",
       "0            K-means (Random)  0.310482\n",
       "1         K-means (K-means++)  0.310482\n",
       "2           Bisecting K-means  0.309696"
      ]
     },
     "execution_count": 59,
     "metadata": {},
     "output_type": "execute_result"
    }
   ],
   "source": [
    "sorted_scores = scores.sort_values(by='fowlkes', ascending=False)\n",
    "sorted_scores[['algorithm','fowlkes']]"
   ]
  },
  {
   "cell_type": "markdown",
   "id": "74b1ca10",
   "metadata": {},
   "source": [
    "d) Best to worst methods sorted for Silhouette Coefficient"
   ]
  },
  {
   "cell_type": "code",
   "execution_count": 60,
   "id": "f88c3478",
   "metadata": {},
   "outputs": [
    {
     "data": {
      "text/html": [
       "<div>\n",
       "<style scoped>\n",
       "    .dataframe tbody tr th:only-of-type {\n",
       "        vertical-align: middle;\n",
       "    }\n",
       "\n",
       "    .dataframe tbody tr th {\n",
       "        vertical-align: top;\n",
       "    }\n",
       "\n",
       "    .dataframe thead th {\n",
       "        text-align: right;\n",
       "    }\n",
       "</style>\n",
       "<table border=\"1\" class=\"dataframe\">\n",
       "  <thead>\n",
       "    <tr style=\"text-align: right;\">\n",
       "      <th></th>\n",
       "      <th>algorithm</th>\n",
       "      <th>silhouette</th>\n",
       "    </tr>\n",
       "  </thead>\n",
       "  <tbody>\n",
       "    <tr>\n",
       "      <th>4</th>\n",
       "      <td>DBSCAN</td>\n",
       "      <td>0.778213</td>\n",
       "    </tr>\n",
       "    <tr>\n",
       "      <th>5</th>\n",
       "      <td>Agg. Clustering (Single)</td>\n",
       "      <td>0.706403</td>\n",
       "    </tr>\n",
       "    <tr>\n",
       "      <th>6</th>\n",
       "      <td>Agg. Clustering (Complete)</td>\n",
       "      <td>0.430164</td>\n",
       "    </tr>\n",
       "    <tr>\n",
       "      <th>7</th>\n",
       "      <td>Agg. Clustering (Average)</td>\n",
       "      <td>0.424123</td>\n",
       "    </tr>\n",
       "    <tr>\n",
       "      <th>0</th>\n",
       "      <td>K-means (Random)</td>\n",
       "      <td>0.397831</td>\n",
       "    </tr>\n",
       "    <tr>\n",
       "      <th>1</th>\n",
       "      <td>K-means (K-means++)</td>\n",
       "      <td>0.397831</td>\n",
       "    </tr>\n",
       "    <tr>\n",
       "      <th>2</th>\n",
       "      <td>Bisecting K-means</td>\n",
       "      <td>0.345637</td>\n",
       "    </tr>\n",
       "    <tr>\n",
       "      <th>8</th>\n",
       "      <td>Agg. Clustering (Ward)</td>\n",
       "      <td>0.341028</td>\n",
       "    </tr>\n",
       "    <tr>\n",
       "      <th>3</th>\n",
       "      <td>Spectral Clustering</td>\n",
       "      <td>0.024984</td>\n",
       "    </tr>\n",
       "  </tbody>\n",
       "</table>\n",
       "</div>"
      ],
      "text/plain": [
       "                    algorithm  silhouette\n",
       "4                      DBSCAN    0.778213\n",
       "5    Agg. Clustering (Single)    0.706403\n",
       "6  Agg. Clustering (Complete)    0.430164\n",
       "7   Agg. Clustering (Average)    0.424123\n",
       "0            K-means (Random)    0.397831\n",
       "1         K-means (K-means++)    0.397831\n",
       "2           Bisecting K-means    0.345637\n",
       "8      Agg. Clustering (Ward)    0.341028\n",
       "3         Spectral Clustering    0.024984"
      ]
     },
     "execution_count": 60,
     "metadata": {},
     "output_type": "execute_result"
    }
   ],
   "source": [
    "sorted_scores = scores.sort_values(by='silhouette', ascending=False)\n",
    "sorted_scores[['algorithm','silhouette']]"
   ]
  },
  {
   "cell_type": "code",
   "execution_count": null,
   "id": "4b163cbe",
   "metadata": {},
   "outputs": [],
   "source": []
  }
 ],
 "metadata": {
  "kernelspec": {
   "display_name": "Python 3 (ipykernel)",
   "language": "python",
   "name": "python3"
  },
  "language_info": {
   "codemirror_mode": {
    "name": "ipython",
    "version": 3
   },
   "file_extension": ".py",
   "mimetype": "text/x-python",
   "name": "python",
   "nbconvert_exporter": "python",
   "pygments_lexer": "ipython3",
   "version": "3.11.5"
  }
 },
 "nbformat": 4,
 "nbformat_minor": 5
}
